{
 "cells": [
  {
   "cell_type": "code",
   "execution_count": 27,
   "id": "86564e35",
   "metadata": {},
   "outputs": [
    {
     "name": "stdout",
     "output_type": "stream",
     "text": [
      "First \n"
     ]
    }
   ],
   "source": [
    "# Import necessary libraries\n",
    "import pandas as pd\n",
    "import numpy as np\n",
    "from sklearn.model_selection import train_test_split, GridSearchCV\n",
    "from sklearn.ensemble import RandomForestRegressor\n",
    "from sklearn.metrics import mean_absolute_error, r2_score\n",
    "\n",
    "print(\"First \")"
   ]
  },
  {
   "cell_type": "code",
   "execution_count": 28,
   "id": "bb88f2fe",
   "metadata": {},
   "outputs": [
    {
     "name": "stdout",
     "output_type": "stream",
     "text": [
      "hello \n"
     ]
    }
   ],
   "source": [
    "\n",
    "# ✅ Load the dataset\n",
    "df = pd.read_excel(\"bench_strength_test_data.xlsx\")\n",
    "print(\"hello \")\n"
   ]
  },
  {
   "cell_type": "code",
   "execution_count": null,
   "id": "fe6e7637",
   "metadata": {},
   "outputs": [],
   "source": [
    "# ✅ Initialize Random Forest Regressor\n",
    "rf_model = RandomForestRegressor(random_state=42)"
   ]
  },
  {
   "cell_type": "code",
   "execution_count": null,
   "id": "5e253369",
   "metadata": {},
   "outputs": [],
   "source": [
    "# ✅ Define features (X) and target variable (y)\n",
    "X = df.drop(columns=[\"Bench_Strength\", \"Bench_Percentage\"])  # Features\n",
    "y = df[\"Bench_Strength\"]  # Target variable\n",
    "print(\"hello2 \")\n"
   ]
  },
  {
   "cell_type": "code",
   "execution_count": null,
   "id": "8d6be46e",
   "metadata": {},
   "outputs": [],
   "source": [
    "\n",
    "\n",
    "# ✅ Split the dataset into training and testing sets\n",
    "X_train, X_test, y_train, y_test = train_test_split(X, y, test_size=0.2, random_state=42)\n"
   ]
  },
  {
   "cell_type": "code",
   "execution_count": null,
   "id": "18ab9562",
   "metadata": {},
   "outputs": [],
   "source": [
    "# ✅ Define hyperparameter grid\n",
    "param_grid = {\n",
    "    \"n_estimators\": [50, 100, 200],\n",
    "    \"max_depth\": [None, 10, 20],\n",
    "    \"min_samples_split\": [2, 5, 10],\n",
    "    \"min_samples_leaf\": [1, 2, 4],\n",
    "}\n",
    "print (\"Hello666\")"
   ]
  },
  {
   "cell_type": "code",
   "execution_count": null,
   "id": "8a2f0e00",
   "metadata": {},
   "outputs": [],
   "source": [
    "\n",
    "# ✅ Perform Grid Search with Cross-Validation\n",
    "grid_search = GridSearchCV(estimator=rf_model, param_grid=param_grid, cv=5, scoring=\"neg_mean_absolute_error\", n_jobs=-1)\n",
    "grid_search.fit(X_train, y_train)\n",
    "print(\"Hello 8888\")"
   ]
  },
  {
   "cell_type": "code",
   "execution_count": null,
   "id": "ddc045d1",
   "metadata": {},
   "outputs": [],
   "source": [
    "\n",
    "Print(\"hello4\")\n",
    "# ✅ Get the best model after tuning\n",
    "best_model = grid_search.best_estimator_\n",
    "\n",
    "# ✅ Make predictions using the best model\n",
    "y_pred = best_model.predict(X_test)\n"
   ]
  },
  {
   "cell_type": "code",
   "execution_count": null,
   "id": "99afe9d9",
   "metadata": {},
   "outputs": [],
   "source": [
    "\n",
    "# ✅ Evaluate model performance\n",
    "mae = mean_absolute_error(y_test, y_pred)\n",
    "r2 = r2_score(y_test, y_pred)\n",
    "print(\"hello5\")"
   ]
  },
  {
   "cell_type": "code",
   "execution_count": null,
   "id": "d031e494",
   "metadata": {},
   "outputs": [],
   "source": [
    "# ✅ Display the best parameters and model performance\n",
    "if hasattr(grid_search, \"best_params_\"):\n",
    "    print(\"Best Hyperparameters:\", grid_search.best_params_)\n",
    "else:\n",
    "    print(\"Grid Search did not complete successfully.\")\n",
    "\n",
    "print(f\"Mean Absolute Error: {mae:.2f}\")\n",
    "print(f\"R² Score: {r2:.2f}\")"
   ]
  },
  {
   "cell_type": "code",
   "execution_count": null,
   "id": "3e4dae0d",
   "metadata": {},
   "outputs": [],
   "source": []
  },
  {
   "cell_type": "code",
   "execution_count": null,
   "id": "ab962ea3",
   "metadata": {},
   "outputs": [],
   "source": []
  }
 ],
 "metadata": {
  "kernelspec": {
   "display_name": "Python 3 (ipykernel)",
   "language": "python",
   "name": "python3"
  },
  "language_info": {
   "codemirror_mode": {
    "name": "ipython",
    "version": 3
   },
   "file_extension": ".py",
   "mimetype": "text/x-python",
   "name": "python",
   "nbconvert_exporter": "python",
   "pygments_lexer": "ipython3",
   "version": "3.10.11"
  }
 },
 "nbformat": 4,
 "nbformat_minor": 5
}
